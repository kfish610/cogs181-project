{
 "cells": [
  {
   "cell_type": "code",
   "execution_count": 60,
   "metadata": {},
   "outputs": [],
   "source": [
    "# Data Loading\n",
    "import requests\n",
    "from ast import literal_eval\n",
    "from copy import deepcopy\n",
    "\n",
    "# Data Visualization\n",
    "import matplotlib.pyplot as plt\n",
    "import seaborn as sns\n",
    "\n",
    "# Data Manipulation\n",
    "import numpy as np\n",
    "import pandas as pd\n",
    "\n",
    "# Machine Learning\n",
    "import torch\n",
    "from torch.optim.sgd import SGD\n",
    "from torch.nn import Module, LSTM, Linear, Softmax, CrossEntropyLoss\n",
    "from torch.utils.data import random_split"
   ]
  },
  {
   "cell_type": "markdown",
   "metadata": {},
   "source": [
    "We begin by loading card data from [Scryfall](https://scryfall.com/), a Magic: The Gathering search engine and data aggregator. We clean the data by removing weirdly formatted cards, as well as cards that contain rarely used characters."
   ]
  },
  {
   "cell_type": "code",
   "execution_count": 2,
   "metadata": {},
   "outputs": [],
   "source": [
    "cards_raw = pd.read_json('data/scryfall-data.zip')\n",
    "\n",
    "# Remove all multi-faced or other weirdly formatted cards\n",
    "cards_raw = cards_raw[cards_raw['layout'] == 'normal']\n",
    "\n",
    "# Remove all digital-only cards\n",
    "cards_raw = cards_raw[~cards_raw['digital']]\n",
    "\n",
    "# Remove all joke cards\n",
    "cards_raw = cards_raw[cards_raw['set_type'] != 'funny']\n",
    "\n",
    "# Remove cards with no text\n",
    "cards_raw = cards_raw[cards_raw['oracle_text'].str.len() > 0]\n",
    "\n",
    "### The next few steps reduce the number of characters we will have to one-hot encode ###\n",
    "# Remove cards that have uncommon characters\n",
    "cards_raw = cards_raw[~cards_raw['oracle_text'].str.contains(r'[!%?úíÉ\\[\\]]')]\n",
    "\n",
    "# Fix index\n",
    "cards_raw = cards_raw.reset_index(drop=True)\n",
    "\n",
    "# Replace \"minus\" with \"hyphen\", as they fulfil the same purpose\n",
    "cards_raw['oracle_text'] = cards_raw['oracle_text'].str.replace('−', '-')\n",
    "\n",
    "# Replace semicolon with comma, as they are close enough\n",
    "cards_raw['oracle_text'] = cards_raw['oracle_text'].str.replace(';', ',')\n",
    "\n",
    "### Generalize card names appearing in rules text ###\n",
    "# This is because the name of the card is irrelevant to its effect, \n",
    "# and cards can even be reprinted with different names\n",
    "def generalize_name(card):\n",
    "    generalized = card.copy()\n",
    "    generalized['oracle_text'] = card['oracle_text'].replace(card['name'], '~')\n",
    "    return generalized\n",
    "\n",
    "cards = cards_raw.apply(generalize_name, axis=1)"
   ]
  },
  {
   "cell_type": "markdown",
   "metadata": {},
   "source": [
    "We then load data from EDHREC, another data aggregator, which has tags on many cards relating to their purpose (e.g. removing threats, playing more mana, etc.)."
   ]
  },
  {
   "cell_type": "code",
   "execution_count": 3,
   "metadata": {},
   "outputs": [
    {
     "name": "stderr",
     "output_type": "stream",
     "text": [
      "C:\\Users\\kfish\\AppData\\Local\\Temp\\ipykernel_14580\\3858669450.py:3: FutureWarning: DataFrame.applymap has been deprecated. Use DataFrame.map instead.\n",
      "  edhrec_tags = pd.read_csv('data/edhrec_data.csv', index_col=0).applymap(literal_eval, na_action='ignore')\n"
     ]
    }
   ],
   "source": [
    "# Try to load EDHREC data; if it doesn't exist, regenerate it\n",
    "try:\n",
    "    edhrec_tags = pd.read_csv('data/edhrec_data.csv', index_col=0).applymap(literal_eval, na_action='ignore')\n",
    "except:\n",
    "    # Replace all special characters with hyphens, other than apostrophes, to match EDHREC format\n",
    "    edhrec_names = cards['name'].str.lower().str.replace('\\'', '').str.replace(r'\\W+', '-', regex=True)\n",
    "\n",
    "    # Split the names into 300 card chunks to fit EDHREC API requirements, then query the API\n",
    "    edhrec_name_chunks = np.array_split(edhrec_names.to_numpy(), range(300, edhrec_names.shape[0], 300))\n",
    "    edhrec_results = [ requests.post('https://edhrec.com/api/cards/', json={'format': 'dict', 'names': list(chunk)}).json()['cards'] for chunk in edhrec_name_chunks ]\n",
    "\n",
    "    # Get the tags for the cards\n",
    "    edhrec_tags = pd.concat([pd.DataFrame(res).T for res in edhrec_results ])['tags']\n",
    "    # Reindex tags based on card name\n",
    "    edhrec_tags = pd.merge(edhrec_names, edhrec_tags, left_on='name', right_index=True)['tags']\n",
    "\n",
    "    # Save to CSV\n",
    "    edhrec_tags.to_csv('data/edhrec_data.csv')\n",
    "\n",
    "# Add the tags to our card data\n",
    "cards_tagged = cards.join(edhrec_tags)\n",
    "# Drop cards with no tags\n",
    "cards_tagged = cards_tagged[~cards_tagged['tags'].isnull()].reset_index(drop=True)"
   ]
  },
  {
   "cell_type": "markdown",
   "metadata": {},
   "source": [
    "Finally, we load the \"Oracle text\" of the cards (the text of the cards under the rules, including errata and updates for uniformity). We convert it into one-hot encoding by characters, then into a packed sequence of tensors for batching."
   ]
  },
  {
   "cell_type": "code",
   "execution_count": 4,
   "metadata": {},
   "outputs": [],
   "source": [
    "# The size of each character tensor\n",
    "INPUT_SIZE = 80\n",
    "\n",
    "# Get the frequency of each character in the corpus\n",
    "char_freqs = pd.Series(list(''.join(cards_tagged['oracle_text']))).value_counts()\n",
    "# Ensure we only have 80 characters appearing\n",
    "assert(char_freqs.shape[0] == INPUT_SIZE)\n",
    "\n",
    "# Mapping from a character into its index\n",
    "char_indices = pd.Series(range(INPUT_SIZE), index=char_freqs.index)\n",
    "\n",
    "# Turn the text of all cards into a packed (jagged) tensor\n",
    "tensor_text = [ torch.tensor(np.identity(INPUT_SIZE)[char_indices[list(text)]]).float() for text in cards_tagged['oracle_text'] ]"
   ]
  },
  {
   "cell_type": "markdown",
   "metadata": {},
   "source": [
    "Similarly, we load the tags into a tensor to be our labels/training data."
   ]
  },
  {
   "cell_type": "code",
   "execution_count": 5,
   "metadata": {},
   "outputs": [],
   "source": [
    "OUTPUT_SIZE = 7\n",
    "\n",
    "# Get the frequencies of each category\n",
    "tag_freqs = cards_tagged['tags'].explode().value_counts()\n",
    "# Ensure we only have 7 categories\n",
    "assert(tag_freqs.shape[0] == OUTPUT_SIZE)\n",
    "\n",
    "# Mapping from a tag into its index\n",
    "tag_indices = pd.Series(range(OUTPUT_SIZE), index=tag_freqs.index)\n",
    "\n",
    "# One-hot encoding, but with the possibility of multiple categories\n",
    "tensor_tags = [ torch.tensor(np.identity(OUTPUT_SIZE)[tag_indices[tags]].mean(axis=0)).float() for tags in cards_tagged['tags'] ]"
   ]
  },
  {
   "cell_type": "markdown",
   "metadata": {},
   "source": [
    "We now create the model, consisting of an LSTM layer, followed by a linear layer and a sigmoid activation."
   ]
  },
  {
   "cell_type": "code",
   "execution_count": 27,
   "metadata": {},
   "outputs": [],
   "source": [
    "class MTGClassifier(Module):\n",
    "    def __init__(self, input_size, hidden_size, output_size, layers):\n",
    "        super(MTGClassifier, self).__init__()\n",
    "        self.input_size, self.hidden_size, self.output_size = input_size, hidden_size, output_size\n",
    "\n",
    "        self.lstm = LSTM(input_size, hidden_size, layers)\n",
    "        self.linear = Linear(hidden_size, output_size)\n",
    "        self.activation = Softmax(dim=1)\n",
    "\n",
    "    def forward(self, input):\n",
    "        out, _ = self.lstm(input)\n",
    "        out = self.linear(out)\n",
    "        out = self.activation(out)\n",
    "        return out"
   ]
  },
  {
   "cell_type": "code",
   "execution_count": null,
   "metadata": {},
   "outputs": [],
   "source": [
    "HIDDEN_SIZE = 60\n",
    "\n",
    "torch.manual_seed(42)\n",
    "\n",
    "model = MTGClassifier(INPUT_SIZE, HIDDEN_SIZE, OUTPUT_SIZE, 2)\n",
    "\n",
    "# Inversely weight the categories, so that we don't get too much focus on the largest one\n",
    "inverse_freqs = 1/tag_freqs\n",
    "weights = inverse_freqs/inverse_freqs.sum()\n",
    "loss_func = CrossEntropyLoss(weight=torch.tensor(weights.to_numpy()))\n",
    "\n",
    "optimizer = SGD(model.parameters(), lr=0.001, momentum=0.9)\n",
    "\n",
    "# Split data into 80/20 train/test\n",
    "text_tagged = list(zip(tensor_text, tensor_tags))\n",
    "train_data, test_data = random_split(text_tagged, [ 0.8, 0.2 ])\n",
    "\n",
    "N_EPOCHS = 1000\n",
    "losses = np.zeros((N_EPOCHS, len(train_data)))\n",
    "test_losses = np.zeros(N_EPOCHS)\n",
    "\n",
    "with torch.no_grad():\n",
    "    best_model = (deepcopy(model), torch.stack([ loss_func(model(test)[-1], tags) for test, tags in test_data ]).mean())\n",
    "\n",
    "for epoch in range(N_EPOCHS):\n",
    "    print(\"Epoch:\", epoch)\n",
    "    # Clear accumulated gradient\n",
    "    model.zero_grad()\n",
    "    for i, (text, tags) in enumerate(train_data):\n",
    "        # Calculate probabilities from sequence\n",
    "        probabilities = model(text)\n",
    "\n",
    "        loss = loss_func(probabilities[-1], tags)\n",
    "        losses[epoch, i] = loss\n",
    "        loss.backward()\n",
    "    optimizer.step()\n",
    "\n",
    "    print(\"\\tError:\", losses[epoch].mean())\n",
    "\n",
    "    with torch.no_grad():\n",
    "        test_losses[epoch] = torch.stack([ loss_func(model(test)[-1], tags) for test, tags in test_data ]).mean()\n",
    "\n",
    "    if best_model[1] > test_losses[epoch]:\n",
    "        best_model = (deepcopy(model), test_losses[epoch])\n",
    "\n",
    "    print(\"\\tTest Error:\", test_losses[epoch])"
   ]
  },
  {
   "cell_type": "code",
   "execution_count": 85,
   "metadata": {},
   "outputs": [
    {
     "data": {
      "text/plain": [
       "<Axes: >"
      ]
     },
     "execution_count": 85,
     "metadata": {},
     "output_type": "execute_result"
    },
    {
     "data": {
      "image/png": "[encoded data removed]",
      "text/plain": [
       "<Figure size 640x480 with 1 Axes>"
      ]
     },
     "metadata": {},
     "output_type": "display_data"
    }
   ],
   "source": [
    "sns.lineplot(x=range(N_EPOCHS), y=losses.mean(axis=1))"
   ]
  }
 ],
 "metadata": {
  "kernelspec": {
   "display_name": "Python 3 (ipykernel)",
   "language": "python",
   "name": "python3"
  },
  "language_info": {
   "codemirror_mode": {
    "name": "ipython",
    "version": 3
   },
   "file_extension": ".py",
   "mimetype": "text/x-python",
   "name": "python",
   "nbconvert_exporter": "python",
   "pygments_lexer": "ipython3",
   "version": "3.12.2"
  }
 },
 "nbformat": 4,
 "nbformat_minor": 2
}
